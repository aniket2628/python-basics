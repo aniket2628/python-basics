{
  "nbformat": 4,
  "nbformat_minor": 0,
  "metadata": {
    "colab": {
      "provenance": []
    },
    "kernelspec": {
      "name": "python3",
      "display_name": "Python 3"
    },
    "language_info": {
      "name": "python"
    }
  },
  "cells": [
    {
      "cell_type": "markdown",
      "source": [
        "1. What is Python, and why is it popular ?\n",
        "   > Python is a high level programming language it is used to design programs it is designed by guido van rossum. It is widely popular becuase it is easy to use and has many library which makes it easy to us and very user friendly.\n",
        "\n",
        "2. What is an interpreter in Python?\n",
        "   > Interpreter coverts high level code into byte code which is undersstable by computer.\n",
        "\n",
        "3. What are pre-defined keywords in Python ?\n",
        "   > Pre-defined codes are those which can't be used as variable because they already have a use case in python.They have predifined meanings and are used in syntax of a python code.\n",
        "\n",
        "4. Can keywords be used as variable names ?\n",
        "   >No key words can not be used as variable names because they have predifined meaning and there use can confuse python interpreter.\n",
        "\n",
        "5.  What is mutability in Python ?\n",
        "   >Mutablity references to change in data structure or type in python.If a it supports change it can be mutable.\n",
        "\n",
        "6.  Why are lists mutable, but tuples are immutable ?\n",
        "   > lists can be modified once made thats why lists are mutable but tuples can't and thats why tuples are immutable.\n",
        "\n",
        "7.  What is the difference between “==” and “is” operators in Python ?\n",
        "   > '==' compares the value of two variables and 'is' compares the address in memory refers to the same object .\n",
        "\n",
        "8.  What are logical operators in Python ?\n",
        "   >Logical operators returns true or false for expresions comparing two values\n",
        "   like AND,OR and not operator.\n",
        "\n",
        "9.  What is type casting in Python ?\n",
        "   >Type casting refers to changing one data type into another in python .\n",
        "\n",
        "10. What is the difference between implicit and explicit type casting ?\n",
        "   >Implicit type casting is done by python interpreter it self and explicit type casting is done bu user according to the requirement.\n",
        "\n",
        "11. What is the purpose of conditional statements in Python ?\n",
        "   >Conditional statements checks conditions before executing python programs. it allows different blocks of programs to run for different values if the conditions are true.\n",
        "\n",
        "12. How does the elif statement work ?\n",
        "   >'elif' stands for else if and it is used in if-else conditional statements it is used to run program block which requires multiple conditions for desired outcome.\n",
        "\n",
        "13. What is the difference between for and while loops ?\n",
        "   >for loops are used in cases where we know the number of times we want to run a loop but while loop is run the number repeatation are uncertain.\n",
        "\n",
        "14. Describe a scenario where a while loop is more suitable than a for loop.   \n",
        "   >While loops are better to use where the coditions returns true or false and requires user input and and the number repeatation is uncertain\n",
        "   like a program requires minimum of 10 quantity to run. So while the quantity is 10 it will run.\n",
        "   \n",
        "\n",
        ""
      ],
      "metadata": {
        "id": "V12eyMRymZ2p"
      }
    },
    {
      "cell_type": "code",
      "source": [
        "#1. Write a Python program to print \"Hello, World!\"\n",
        "print(\"Hello, World!\")\n"
      ],
      "metadata": {
        "id": "DrQVLhyqCXuD"
      },
      "execution_count": null,
      "outputs": []
    },
    {
      "cell_type": "code",
      "source": [
        "#2. Write a Python program that displays your name and age?\n",
        "print(\"I am Aniket and my age is 24.\")"
      ],
      "metadata": {
        "id": "t7wM3Fv_C5ft"
      },
      "execution_count": null,
      "outputs": []
    },
    {
      "cell_type": "code",
      "source": [
        "#3.Write code to print all the pre-defined keywords in Python using the keyword library?\n",
        "import keyword\n",
        "print(keyword.kwlist)"
      ],
      "metadata": {
        "colab": {
          "base_uri": "https://localhost:8080/"
        },
        "id": "o1-xrRKTD1At",
        "outputId": "1b58328e-f99e-4905-d55b-af4bceac33ac"
      },
      "execution_count": 1,
      "outputs": [
        {
          "output_type": "stream",
          "name": "stdout",
          "text": [
            "['False', 'None', 'True', 'and', 'as', 'assert', 'async', 'await', 'break', 'class', 'continue', 'def', 'del', 'elif', 'else', 'except', 'finally', 'for', 'from', 'global', 'if', 'import', 'in', 'is', 'lambda', 'nonlocal', 'not', 'or', 'pass', 'raise', 'return', 'try', 'while', 'with', 'yield']\n"
          ]
        }
      ]
    },
    {
      "cell_type": "code",
      "source": [
        "#4.Write a program that checks if a given word is a Python keyword.\n",
        "a= \"for\"\n",
        "if keyword.iskeyword(a):\n",
        "        print( a + \" is python keyword\")\n",
        "else:\n",
        "        print( a + \" is not a python keyword\")"
      ],
      "metadata": {
        "colab": {
          "base_uri": "https://localhost:8080/"
        },
        "id": "E3Igg-anEJrn",
        "outputId": "48563ad2-3bc1-4eac-8388-516d5ced4511"
      },
      "execution_count": 8,
      "outputs": [
        {
          "output_type": "stream",
          "name": "stdout",
          "text": [
            "fy is not a python keyword\n"
          ]
        }
      ]
    },
    {
      "cell_type": "code",
      "source": [
        "# 5.Create a list and tuple in Python, and demonstrate how attempting to change an element works differently for each.\n",
        "list=['hey','hi',1,'are']\n",
        "tuple=(\"why\",\"where\",\"how\")\n",
        "list[0]=\"hello\" #will change hey to hello\n",
        "#tuple[0]= \"what\"  #>>>this will throw an error\n",
        "print(list)\n",
        "print(tuple)\n",
        "\n"
      ],
      "metadata": {
        "id": "EHSPGbqAFjow"
      },
      "execution_count": null,
      "outputs": []
    },
    {
      "cell_type": "code",
      "source": [
        "# 6.Write a function to demonstrate the behavior of mutable and immutable arguments.\n",
        "message = \"Welcome\"\n",
        "message[0] = 'p'\n",
        "print(message)\n",
        "# this will throw and error as strings are immutable\n",
        "\n"
      ],
      "metadata": {
        "id": "P-utgMBtHwzJ"
      },
      "execution_count": null,
      "outputs": []
    },
    {
      "cell_type": "code",
      "source": [
        "list=['hey','hi',1,'are']\n",
        "list[0]=\"hello\"\n",
        "print(list)"
      ],
      "metadata": {
        "colab": {
          "base_uri": "https://localhost:8080/"
        },
        "id": "tudEVmGOIsRq",
        "outputId": "e2b6004c-b1ef-4ac6-aaec-04bd4019ba6d"
      },
      "execution_count": 9,
      "outputs": [
        {
          "output_type": "stream",
          "name": "stdout",
          "text": [
            "['hello', 'hi', 1, 'are']\n"
          ]
        }
      ]
    },
    {
      "cell_type": "code",
      "source": [
        "#7. Write a program that performs basic arithmetic operations on two user-input numbers.\n",
        "A=input(\"enter 1st value you want to multiply:\\n\")\n",
        "\n",
        "B=input(\"Enter 2nd value you want to multiply:\\n\")\n",
        "print(f'the product is {A}*{B}:',int(A)*int(B))"
      ],
      "metadata": {
        "colab": {
          "base_uri": "https://localhost:8080/"
        },
        "id": "WLMsPm9yI4ec",
        "outputId": "5541b87d-e556-42b6-af07-66a9d2d7fc81"
      },
      "execution_count": 12,
      "outputs": [
        {
          "output_type": "stream",
          "name": "stdout",
          "text": [
            "enter 1st value you want to multiply:\n",
            "5\n",
            "Enter 2nd value you want to multiply:\n",
            "2\n",
            "the product is 5*2: 10\n"
          ]
        }
      ]
    },
    {
      "cell_type": "code",
      "source": [
        "#8. Write a program to demonstrate the use of logical operators.\n",
        "a=5\n",
        "b=6\n",
        "c=7\n",
        "\n",
        "if (a==5) and (c==7):\n",
        "    print(\"Both a and c are True (AND condition).\")\n",
        "\n",
        "if (b==9) or (c==7):\n",
        "    print(\"Either b or c is True (OR condition).\")\n",
        "\n",
        "if not (b==5):\n",
        "    print(\"b is False (NOT condition).\")"
      ],
      "metadata": {
        "colab": {
          "base_uri": "https://localhost:8080/"
        },
        "id": "3jJiDMr1KRY2",
        "outputId": "6c2b604b-f150-42d3-e069-c1c492c006a1"
      },
      "execution_count": 3,
      "outputs": [
        {
          "output_type": "stream",
          "name": "stdout",
          "text": [
            "Both a and c are True (AND condition).\n",
            "Either b or c is True (OR condition).\n",
            "b is False (NOT condition).\n"
          ]
        }
      ]
    },
    {
      "cell_type": "code",
      "source": [
        "#9. Write a Python program to convert user input from string to integer, float, and boolean types.\n",
        "a=input(\"data for type conversion: \")\n",
        "b=int(a) # conversion into integer\n",
        "print(b)\n",
        "type(b)\n",
        "c=float(a) #conversion to float\n",
        "\n"
      ],
      "metadata": {
        "id": "b5RCk4KzdIv7"
      },
      "execution_count": null,
      "outputs": []
    },
    {
      "cell_type": "code",
      "source": [
        "#10. Write code to demonstrate type casting with list elements.\n",
        "lst=[1,2,3,4,5 ,6 ]\n",
        "con2str =[str(x)for x in lst]\n",
        "print(con2str)"
      ],
      "metadata": {
        "colab": {
          "base_uri": "https://localhost:8080/"
        },
        "id": "q56UbjV1fim_",
        "outputId": "dbf1fc9c-7477-41ee-fd7b-8d5a3e6b9722"
      },
      "execution_count": 4,
      "outputs": [
        {
          "output_type": "stream",
          "name": "stdout",
          "text": [
            "['1', '2', '3', '4', '5', '6']\n"
          ]
        }
      ]
    },
    {
      "cell_type": "code",
      "source": [
        "#11. Write a program that checks if a number is positive, negative, or zero.\n",
        "x = input(\"enter no. to check: \")\n",
        "a=int(x)\n",
        "if(a>0):\n",
        "  print(\"the no. is positive\")\n",
        "elif(a==0):\n",
        "  print(\"you've entered zero\")\n",
        "else:\n",
        "  print(\"the no. is negative\")\n"
      ],
      "metadata": {
        "colab": {
          "base_uri": "https://localhost:8080/"
        },
        "id": "ivXwSDK0gnxV",
        "outputId": "1ddd7db5-a973-4ce0-f5ba-a131a2aa79a9"
      },
      "execution_count": 5,
      "outputs": [
        {
          "output_type": "stream",
          "name": "stdout",
          "text": [
            "enter no. to check: 5\n",
            "the no. is positive\n"
          ]
        }
      ]
    },
    {
      "cell_type": "code",
      "source": [
        "#12. Write a for loop to print numbers from 1 to 10.\n",
        "for i in range(1,11):\n",
        "  print(i)"
      ],
      "metadata": {
        "colab": {
          "base_uri": "https://localhost:8080/"
        },
        "id": "xiaR7Bx9iPjl",
        "outputId": "05062b98-c727-4827-a81a-becc7133f585"
      },
      "execution_count": 7,
      "outputs": [
        {
          "output_type": "stream",
          "name": "stdout",
          "text": [
            "1\n",
            "2\n",
            "3\n",
            "4\n",
            "5\n",
            "6\n",
            "7\n",
            "8\n",
            "9\n",
            "10\n"
          ]
        }
      ]
    },
    {
      "cell_type": "code",
      "source": [
        "#13. Write a Python program to find the sum of all even numbers between 1 and 50.\n",
        "sum = 0\n",
        "for i in range(2, 51, 2):\n",
        "    sum=sum + i\n",
        "print(f\"The sum of even numbers between 1 and 50 is: {sum}\")"
      ],
      "metadata": {
        "colab": {
          "base_uri": "https://localhost:8080/"
        },
        "id": "Z9A0JExSilbA",
        "outputId": "85991530-1413-463a-ab54-3ae02291c0c7"
      },
      "execution_count": 9,
      "outputs": [
        {
          "output_type": "stream",
          "name": "stdout",
          "text": [
            "The sum of even numbers between 1 and 50 is: 650\n"
          ]
        }
      ]
    },
    {
      "cell_type": "code",
      "source": [
        "#14. Write a program to reverse a string using a while loop.\n",
        "a= input(\"Enter the string to reverse : \")\n",
        "length=-(len(a))\n",
        "index = -1\n",
        "\n",
        "while index>=length:\n",
        " print(f\"{a[index]}\",end=\"\")\n",
        " index=index-1"
      ],
      "metadata": {
        "colab": {
          "base_uri": "https://localhost:8080/"
        },
        "id": "gCsqfzpDjhw1",
        "outputId": "06a08964-b690-4d01-d052-bfb4fb82fa0e"
      },
      "execution_count": 8,
      "outputs": [
        {
          "output_type": "stream",
          "name": "stdout",
          "text": [
            "Enter the string to reverse : aniket\n",
            "tekina"
          ]
        }
      ]
    },
    {
      "cell_type": "code",
      "source": [
        "#15. Write a Python program to calculate the factorial of a number provided by the user using a while loop.\n",
        "a=input(\"Enter a no. which you want factorial of:\")\n",
        "b=int(a)\n",
        "factorial = 1\n",
        "for i in range(1,b+1):\n",
        "  factorial=factorial*i\n",
        "print(f\"the factorial of {a} is {factorial}\")\n"
      ],
      "metadata": {
        "colab": {
          "base_uri": "https://localhost:8080/"
        },
        "id": "cYgqRpmyZXnu",
        "outputId": "c4495cf3-bf8e-4cc0-9ad5-2944866273db"
      },
      "execution_count": 17,
      "outputs": [
        {
          "output_type": "stream",
          "name": "stdout",
          "text": [
            "Enter a no. which you want factorial of:6\n",
            "the factorial of 6 is 720\n"
          ]
        }
      ]
    },
    {
      "cell_type": "code",
      "source": [
        "0"
      ],
      "metadata": {
        "colab": {
          "base_uri": "https://localhost:8080/"
        },
        "id": "Sk6ijL4RdWYq",
        "outputId": "d7e6161b-80bf-46bb-d18d-eec88b7b2146"
      },
      "execution_count": 18,
      "outputs": [
        {
          "output_type": "execute_result",
          "data": {
            "text/plain": [
              "0"
            ]
          },
          "metadata": {},
          "execution_count": 18
        }
      ]
    }
  ]
}